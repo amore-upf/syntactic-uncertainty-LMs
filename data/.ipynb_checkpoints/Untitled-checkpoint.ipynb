{
 "cells": [
  {
   "cell_type": "code",
   "execution_count": 2,
   "metadata": {},
   "outputs": [],
   "source": [
    "import pandas as pd"
   ]
  },
  {
   "cell_type": "code",
   "execution_count": 51,
   "metadata": {},
   "outputs": [],
   "source": [
    "df = pd.read_csv('prompts_N-V_N_ambiguous.tsv', sep = '\\t', index_col ='item')"
   ]
  },
  {
   "cell_type": "code",
   "execution_count": 53,
   "metadata": {},
   "outputs": [],
   "source": [
    "for item, row in df.iterrows():\n",
    "    if row.ambiguous not in row.prompt_pre:\n",
    "        print(row)\n",
    "    if row.ambiguous not in row.prompt_post:\n",
    "        print(row)\n",
    "    if row.disambiguating not in row.prompt_post:\n",
    "        print(row)\n",
    "    if row.occurrence_disambiguating != len([i for i, val in enumerate(row.prompt_post.split()) if val == row.disambiguating]):\n",
    "        print(row, row.disambiguating, row.occurrence_disambiguating, len([i for i, val in enumerate(row.prompt_post.split()) if val == row.disambiguating]))\n",
    "    if row.occurrence_ambiguous != len([i for i, val in enumerate(row.prompt_post.split()) if val == row.ambiguous]):\n",
    "        print(row, len([i for i, val in enumerate(row.prompt_post.split()) if val == row.ambiguous]))"
   ]
  },
  {
   "cell_type": "code",
   "execution_count": null,
   "metadata": {},
   "outputs": [],
   "source": []
  },
  {
   "cell_type": "code",
   "execution_count": null,
   "metadata": {},
   "outputs": [],
   "source": []
  }
 ],
 "metadata": {
  "kernelspec": {
   "display_name": "Python 3",
   "language": "python",
   "name": "python3"
  },
  "language_info": {
   "codemirror_mode": {
    "name": "ipython",
    "version": 3
   },
   "file_extension": ".py",
   "mimetype": "text/x-python",
   "name": "python",
   "nbconvert_exporter": "python",
   "pygments_lexer": "ipython3",
   "version": "3.7.4"
  }
 },
 "nbformat": 4,
 "nbformat_minor": 2
}
