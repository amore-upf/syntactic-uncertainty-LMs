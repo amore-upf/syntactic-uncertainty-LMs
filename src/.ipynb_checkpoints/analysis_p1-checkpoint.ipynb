{
 "cells": [
  {
   "cell_type": "code",
   "execution_count": 1,
   "metadata": {},
   "outputs": [],
   "source": [
    "from collections import defaultdict\n",
    "import matplotlib.pyplot as plt\n",
    "\n",
    "import pandas as pd\n",
    "import  matplotlib\n",
    "import numpy as np\n",
    "\n",
    "\n",
    "plt.rcParams['font.family'] = \"Times New Roman\"\n",
    "plt.rcParams['font.size'] = 30\n",
    "plt.rcParams['font.sans-serif'] = \"\"\n",
    "plt.rcParams['text.usetex'] = True\n",
    "\n",
    "plt.set_cmap('Blues')\n",
    "\n",
    "import os\n",
    "\n",
    "def identify_datapoints_to_exclude(model, starting_dir = '.'):\n",
    "    to_exclude = {}\n",
    "    for data_type in ['NP-S', 'N-V', 'NP-Z']:\n",
    "        to_exclude[data_type] = []\n",
    "        if data_type.startswith('N-V'):\n",
    "            categories= ['_N', '_V']\n",
    "        else:\n",
    "            categories = ['']\n",
    "        model = 'GPT2'\n",
    "        to_discard_all = set()\n",
    "        \n",
    "        # From Noun/Verb collect cases that are not disambiguated by syntactic agreement\n",
    "        if data_type == 'N-V':\n",
    "            original = pd.read_csv(starting_dir + '/data/prompts_N-V_V_ambiguous.tsv',sep ='\\t')\n",
    "            to_discard = list(original[original.disambiguation != 'agreement'].item)\n",
    "            for i in to_discard:\n",
    "                to_discard_all.add(i)\n",
    "        \n",
    "        # From all categories collect cases where the original sentence is correctly parsed\n",
    "        for category in categories:\n",
    "            to_eval = starting_dir + '/generated/'  + '/'.join([data_type + category, model,'original_stimuli', ''])\n",
    "            if data_type == 'N-V':\n",
    "                look_for = category[-1]\n",
    "            else:\n",
    "                look_for = data_type[-1]\n",
    "            for condition in ['ambiguous', 'unambiguous']:\n",
    "                df = pd.read_csv(to_eval + condition + '_interpretations_original.tsv', sep = '\\t')\n",
    "                to_discard = list(df[df.interpretation != look_for].stimulus_id)\n",
    "                for i in to_discard:\n",
    "                    to_discard_all.add(i)\n",
    "        to_exclude[data_type] = list(to_discard_all)\n",
    "    return to_exclude\n"
   ]
  },
  {
   "cell_type": "code",
   "execution_count": 26,
   "metadata": {},
   "outputs": [],
   "source": [
    "def make_plot(results_pre, results_post, data_type, category = 'N', model = 'GPT2', output = 'p1'):\n",
    "    fig, axes = plt.subplots(1,2, figsize = (16,8), sharey = True)\n",
    "    barWidth = 0.2\n",
    "    colors = ['lightcoral', 'steelblue', 'khaki']\n",
    "    subplot_idx = 0\n",
    "    for condition in results_pre:\n",
    "        values_pre = results_pre[condition]\n",
    "        values_post = results_post[condition]\n",
    "        \n",
    "        ax = axes[subplot_idx]\n",
    "        if data_type != 'N-V':\n",
    "            values_pre, std_pre = values_pre\n",
    "            values_post, std_post = values_post\n",
    "            labels = list(set(list(values_pre.keys()) + list(values_post.keys())))\n",
    "            labels = sorted(labels)\n",
    "            for l in labels:\n",
    "                if l not in values_pre:\n",
    "                    values_pre[l] = 0\n",
    "                if l not in values_post:\n",
    "                    values_post[l] = 0\n",
    "            r = [0,1]\n",
    "\n",
    "            names = ('pre', 'post')\n",
    "\n",
    "            bottom = [0,0]\n",
    "            for i in range(len(labels)):\n",
    "                data_to_plot = [values_pre[labels[i]], values_post[labels[i]]]\n",
    "                #yerr =  [std_pre, std_post] if labels[i] == category else None\n",
    "                yerr = None\n",
    "                ax.bar(r, data_to_plot, bottom = bottom, width=barWidth, \n",
    "                       yerr = yerr, label = labels[i], color = colors[i], alpha = 0.7)\n",
    "                bottom = [bottom[0] + data_to_plot[0], bottom[1] + data_to_plot[1]]\n",
    "\n",
    "            ax.set_xticks(r)\n",
    "            ax.set_xticklabels(names)\n",
    "            ax.set_title(condition)\n",
    "            if subplot_idx == 0:\n",
    "                ax.legend(loc=\"upper center\", bbox_to_anchor=(0.5,0.5))\n",
    "        else:\n",
    "            values_pre_V, values_pre_N = values_pre\n",
    "            values_post_V, values_post_N = values_post\n",
    "            values_pre_V, std_pre_V =  values_pre_V\n",
    "            values_pre_N, std_pre_N =  values_pre_N\n",
    "            values_post_V, std_post_V =  values_post_V\n",
    "            values_post_N, std_post_N =  values_post_N\n",
    "            \n",
    "            labels = list(set(list(values_pre_N.keys()) + list(values_post_N.keys()) + \n",
    "                              list(values_pre_V.keys()) + list(values_post_V.keys())))\n",
    "            labels = sorted(labels)\n",
    "            for l in labels:\n",
    "                if l not in values_pre_N:\n",
    "                    values_pre_N[l] = 0\n",
    "                if l not in values_post_N:\n",
    "                    values_post_N[l] = 0\n",
    "                if l not in values_pre_V:\n",
    "                    values_pre_V[l] = 0\n",
    "                if l not in values_post_V:\n",
    "                    values_post_V[l] = 0\n",
    "\n",
    "            if condition != 'ambiguous':\n",
    "                r = [0, 0.25,1, 1.25]\n",
    "                names = ('Noun', 'Verb', 'Noun', 'Verb')\n",
    "                bottom = [0,0, 0, 0]\n",
    "                for i in range(len(labels)):\n",
    "                    data_to_plot = [values_pre_N[labels[i]], values_pre_V[labels[i]], values_post_N[labels[i]], values_post_V[labels[i]]]\n",
    "                    #yerr = [std_pre_N, std_pre_V, std_post_N, std_post_V] if labels[i] == category else None\n",
    "                    yerr = None\n",
    "                    ax.bar(r, data_to_plot, bottom = bottom, width=barWidth, yerr = yerr, \n",
    "                            label = labels[i], color = colors[i], alpha = 0.7)\n",
    "                    bottom = [bottom[i] + data_to_plot[i] for i in range(len(data_to_plot))]\n",
    "            else:\n",
    "                r = [0.15, 1, 1.25]\n",
    "                names = ('', 'Noun', 'Verb')\n",
    "                bottom = [0,0, 0]\n",
    "                for i in range(len(labels)):\n",
    "                    data_to_plot = [values_pre_V[labels[i]], values_post_N[labels[i]], values_post_V[labels[i]]]\n",
    "                    #yerr = [std_pre_V, std_post_N, std_post_V] if labels[i] == category else None\n",
    "                    yerr = None\n",
    "                    ax.bar(r, data_to_plot, bottom = bottom, width=barWidth, label = labels[i], yerr = yerr, color = colors[i], alpha = 0.7)\n",
    "                    bottom = [bottom[i] + data_to_plot[i] for i in range(len(data_to_plot))]\n",
    "            \n",
    "            ax.set_xticks(r)\n",
    "            ax.set_xticklabels(names)\n",
    "            ax.set_title(condition)\n",
    "            ax.text(0.07, -0.15, \"pre\")\n",
    "            ax.text(1, -0.15, \"post\")\n",
    "            if subplot_idx == 0:\n",
    "                ax.legend(loc=\"upper center\", bbox_to_anchor=(0.4,0.5))\n",
    "        subplot_idx += 1\n",
    "    if data_type == 'N-V':\n",
    "        data_type_tmp = 'Noun/Verb'\n",
    "    else:\n",
    "        data_type_tmp = data_type.replace('-', '/')\n",
    "    title = data_type_tmp\n",
    "    if model == 'GPT2':\n",
    "        title += ' - GPT2'\n",
    "    elif model == 'lstm_gulordava':\n",
    "        title += ' - LSTM'\n",
    "\n",
    "    fig.suptitle('$\\\\textbf{' + title + '}$', size = 30)\n",
    "    \n",
    "    plt.savefig(output + '/' + data_type + '_barplot_' + model +'.png')\n",
    "    plt.show()\n",
    "    plt.clf()\n",
    "    \n",
    "def plot_variation_stimuli(dist_values_pre, dist_values_post, data_type, category = 'N', model = 'GPT2', output = '../analyzed'):\n",
    "    \n",
    "    fig, axes = plt.subplots(1, 2, figsize = (10, 6), sharey = True)\n",
    "    j = 0\n",
    "    for condition in dist_values_post:\n",
    "        ax = axes[j]\n",
    "        if data_type != 'N-V':\n",
    "            ax.boxplot([dist_values_pre[condition], dist_values_post[condition]])\n",
    "            ax.set_xticks([1, 2])\n",
    "            ax.set_xticklabels(['pre', 'post'])\n",
    "        else:\n",
    "            if condition != 'ambiguous':\n",
    "#                 ax.boxplot([dist_values_pre[condition][1], dist_values_pre[condition][0], \n",
    "#                            dist_values_post[condition][1], dist_values_post[condition][0]])\n",
    "                ax.scatter([1 for i in range(len(dist_values_pre[condition][1]))],\n",
    "                          dist_values_pre[condition][1])\n",
    "                ax.set_xticks([1, 2, 3, 4])\n",
    "                ax.set_xticklabels(['Noun', 'Verb', 'Noun', 'Verb'])\n",
    "            else:\n",
    "#                 ax.boxplot([dist_values_pre[condition][1], \n",
    "#                            dist_values_post[condition][1], dist_values_post[condition][0]])\n",
    "                ax.scatter([1 for i in range(len(dist_values_pre[condition][1]))],\n",
    "                          dist_values_pre[condition][1])\n",
    "                ax.set_xticks([1, 2, 3, 4])\n",
    "                ax.set_xticklabels(['', 'Noun', 'Verb'])\n",
    "            ax.text(1, -0.15, \"pre\")\n",
    "            ax.text(3, -0.15, \"post\")\n",
    "        if j == 0:\n",
    "            ax.set_ylim(-0.05, 1.1)\n",
    "            ax.set_ylabel('$P(' + category + ')$')\n",
    "        \n",
    "        ax.set_title(condition, size = 24)\n",
    "        \n",
    "        if data_type == 'N-V':\n",
    "            data_type_tmp = 'Noun/Verb'\n",
    "        else:\n",
    "            data_type_tmp = data_type.replace('-', '/')\n",
    "        title = data_type_tmp\n",
    "        title = data_type_tmp\n",
    "        if model == 'GPT2':\n",
    "            title += ' - GPT2'\n",
    "        elif model == 'lstm_gulordava':\n",
    "            title += ' - LSTM'\n",
    "        j += 1\n",
    "    fig.suptitle('$\\\\textbf{' + title + '}$', size = 30)\n",
    "    plt.savefig(output + '/' + data_type + '_boxplot_' + model +'.png')\n",
    "    plt.show()\n",
    "    plt.clf()\n",
    "\n",
    "from scipy.stats import ttest_rel\n",
    "\n",
    "def get_statistics(dist_values_pre, dist_values_post, data_type, category = 'N', model = 'GPT2', output = '../analyzed'):\n",
    "    if data_type != 'N-V':\n",
    "        for condition in dist_values_pre:\n",
    "            print('T-test pre/post; condition: ', condition, '; ', data_type,'\\n', ttest_rel(dist_values_pre[condition], dist_values_post[condition]))\n",
    "            print(np.mean(dist_values_pre[condition]), np.mean(dist_values_post[condition]))\n",
    "        print('T-test conditions; pre; ',data_type, '\\n',  ttest_rel(dist_values_pre['ambiguous'], dist_values_pre['unambiguous']))\n",
    "        print(np.mean(dist_values_pre['ambiguous']), np.mean(dist_values_pre['unambiguous']))\n",
    "        print('T-test conditions; post; ', data_type,  '\\n',  ttest_rel(dist_values_post['ambiguous'], dist_values_post['unambiguous']))\n",
    "        print(np.mean(dist_values_post['ambiguous']), np.mean(dist_values_post['unambiguous']))\n",
    "    else:\n",
    "        for i in range(2):\n",
    "            if i == 0:\n",
    "                print('V')\n",
    "            else:\n",
    "                print('N')\n",
    "            for condition in dist_values_pre:\n",
    "                print('T-test pre/post; condition: ', condition, '; ', data_type,'\\n', ttest_rel(dist_values_pre[condition][i], dist_values_post[condition][i]))\n",
    "                print(np.mean(dist_values_pre[condition][i]), np.mean(dist_values_post[condition][i]))\n",
    "            print('T-test conditions; pre; ',data_type, '\\n',  ttest_rel(dist_values_pre['ambiguous'][i], dist_values_pre['unambiguous'][i]))\n",
    "            print(np.mean(dist_values_pre['ambiguous'][i]), np.mean(dist_values_pre['unambiguous'][i]))\n",
    "            print('T-test conditions; post; ', data_type,  '\\n',  ttest_rel(dist_values_post['ambiguous'][i], dist_values_post['unambiguous'][i]))\n",
    "            print(np.mean(dist_values_post['ambiguous'][i]), np.mean(dist_values_post['unambiguous'][i]))"
   ]
  },
  {
   "cell_type": "code",
   "execution_count": 27,
   "metadata": {},
   "outputs": [],
   "source": [
    "def from_df_dict(df):\n",
    "    df = df[df.interpretation != 'other']\n",
    "    values_df = dict(df.interpretation.value_counts(normalize = True))\n",
    "    return values_df\n",
    "\n",
    "from scipy.stats import chi2_contingency, ttest_ind\n",
    "    \n",
    "# to_exclude = {'NP-S': [], 'NP-Z': [], 'N-V_N': ['N-V_11', 'N-V_9', 'N-V_14', 'N-V_16'], \n",
    "#               'N-V_V': ['N-V_11', 'N-V_9', 'N-V_14', 'N-V_16'],\n",
    "#               'N-V_semantic_N': ['N-V_12', 'N-V_1', 'N-V_15', 'N-V_16'],\n",
    "#               'N-V_semantic_V': ['N-V_12', 'N-V_1', 'N-V_15', 'N-V_16'], \n",
    "#              }\n",
    "\n",
    "\n",
    "\n",
    "def plot_results(to_eval, to_exclude, sampling_type = 'p', data_type = 'N-V', output = '../analyzed', parser = 'allennlp', category = 'N', other_category = 'V', model = 'lstm_gulordava'):\n",
    "    results_pre = {}\n",
    "    results_post = {}\n",
    "    dist_values_pre = {}\n",
    "    dist_values_post = {}\n",
    "    categories = [category]\n",
    "    to_eval_dirs = [to_eval]\n",
    "    if data_type == 'N-V':\n",
    "        to_eval_dirs.append(to_eval.replace('N-V_V', 'N-V_N'))\n",
    "        categories.append('N')\n",
    "    for i in range(len(to_eval_dirs)):\n",
    "        to_eval=  to_eval_dirs[i]\n",
    "        category = categories[i]\n",
    "        # Get values for all conditions\n",
    "        for condition in ['ambiguous', 'unambiguous']:\n",
    "            data_dir = to_eval + condition + '/evaluated_' + parser + '/'\n",
    "            pre = pd.read_csv(data_dir + 'interpretations_pre.tsv', sep = '\\t')\n",
    "            post = pd.read_csv(data_dir + 'interpretations_post.tsv', sep = '\\t')\n",
    "            #exclude cases\n",
    "            pre = pre[~pre.stimulus_id.isin(to_exclude[data_type])]\n",
    "            post = post[~post.stimulus_id.isin(to_exclude[data_type])]\n",
    "            # normalized quantity for each category overall\n",
    "            interpretations_pre = pre.interpretation.value_counts(normalize = True)\n",
    "            interpretations_post = post.interpretation.value_counts(normalize = True)\n",
    "            # normalized quantity for each category per item\n",
    "            values_per_stimuli_pre = []\n",
    "            values_per_stimuli_post = []\n",
    "            for stimulus_id in list(set(pre.stimulus_id)):\n",
    "                smaller_df = pre[pre.stimulus_id == stimulus_id]\n",
    "                values = from_df_dict(smaller_df)\n",
    "                value_category = values[category] if category in values else 0\n",
    "                values_per_stimuli_pre.append(value_category)\n",
    "            for stimulus_id in list(set(post.stimulus_id)):\n",
    "                smaller_df = post[post.stimulus_id == stimulus_id]\n",
    "                values = from_df_dict(smaller_df)\n",
    "                value_category = values[category] if category in values else 0\n",
    "                values_per_stimuli_post.append(value_category)\n",
    "            if i == 0:\n",
    "                dist_values_pre[condition] = values_per_stimuli_pre\n",
    "                dist_values_post[condition] = values_per_stimuli_post\n",
    "                results_pre[condition] = interpretations_pre,  np.std(values_per_stimuli_pre)\n",
    "                results_post[condition] = interpretations_post, np.std(values_per_stimuli_post)\n",
    "            else:\n",
    "                dist_values_pre[condition] = dist_values_pre[condition], values_per_stimuli_pre\n",
    "                dist_values_post[condition] = dist_values_post[condition], values_per_stimuli_post\n",
    "                \n",
    "                interpretations_pre = interpretations_pre,  np.std(values_per_stimuli_pre)\n",
    "                interpretations_post = interpretations_post, np.std(values_per_stimuli_post)\n",
    "                results_pre[condition] = results_pre[condition], interpretations_pre\n",
    "                results_post[condition] = results_post[condition], interpretations_post\n",
    "        \n",
    "    #make_plot(results_pre, results_post, data_type, output = output, category = category, model = model)\n",
    "    #boxplots --> turn into scatterplot\n",
    "    plot_variation_stimuli(dist_values_pre, dist_values_post, data_type, output = output, category = category, model = model)\n",
    "    get_statistics(dist_values_pre, dist_values_post, data_type, output = output, category = category, model = model)"
   ]
  },
  {
   "cell_type": "code",
   "execution_count": 28,
   "metadata": {},
   "outputs": [
    {
     "data": {
      "image/png": "[encoded data removed]",
      "text/plain": [
       "<Figure size 720x432 with 2 Axes>"
      ]
     },
     "metadata": {
      "needs_background": "light"
     },
     "output_type": "display_data"
    },
    {
     "name": "stdout",
     "output_type": "stream",
     "text": [
      "V\n",
      "T-test pre/post; condition:  ambiguous ;  N-V \n",
      " Ttest_relResult(statistic=-5.511733314320328, pvalue=1.809431795751496e-05)\n",
      "0.4481818181818182 0.8909090909090911\n",
      "T-test pre/post; condition:  unambiguous ;  N-V \n",
      " Ttest_relResult(statistic=-3.853901925395728, pvalue=0.0009207970510929623)\n",
      "0.65 0.9718181818181818\n",
      "T-test conditions; pre;  N-V \n",
      " Ttest_relResult(statistic=-3.393841043828039, pvalue=0.0027373441717478695)\n",
      "0.4481818181818182 0.65\n",
      "T-test conditions; post;  N-V \n",
      " Ttest_relResult(statistic=-2.5879154619066673, pvalue=0.017163950342165817)\n",
      "0.8909090909090911 0.9718181818181818\n",
      "N\n",
      "T-test pre/post; condition:  ambiguous ;  N-V \n",
      " Ttest_relResult(statistic=-5.314828071353441, pvalue=2.8609746210673148e-05)\n",
      "0.5477272727272727 0.9986363636363635\n",
      "T-test pre/post; condition:  unambiguous ;  N-V \n",
      " Ttest_relResult(statistic=-3.0689227281884444, pvalue=0.005825027931778745)\n",
      "0.855 1.0\n",
      "T-test conditions; pre;  N-V \n",
      " Ttest_relResult(statistic=-4.991683377817934, pvalue=6.112646531588376e-05)\n",
      "0.5477272727272727 0.855\n",
      "T-test conditions; post;  N-V \n",
      " Ttest_relResult(statistic=-1.0, pvalue=0.32869468323646367)\n",
      "0.9986363636363635 1.0\n"
     ]
    },
    {
     "data": {
      "text/plain": [
       "<Figure size 432x288 with 0 Axes>"
      ]
     },
     "metadata": {},
     "output_type": "display_data"
    },
    {
     "data": {
      "image/png": "[encoded data removed]",
      "text/plain": [
       "<Figure size 720x432 with 2 Axes>"
      ]
     },
     "metadata": {
      "needs_background": "light"
     },
     "output_type": "display_data"
    },
    {
     "name": "stdout",
     "output_type": "stream",
     "text": [
      "V\n",
      "T-test pre/post; condition:  ambiguous ;  N-V \n",
      " Ttest_relResult(statistic=-6.754358401610879, pvalue=1.1089654562957891e-06)\n",
      "0.4232196951677471 0.9425941230486685\n",
      "T-test pre/post; condition:  unambiguous ;  N-V \n",
      " Ttest_relResult(statistic=-4.344272563200037, pvalue=0.0002852416036479308)\n",
      "0.6819062290598955 0.9886223055295221\n",
      "T-test conditions; pre;  N-V \n",
      " Ttest_relResult(statistic=-4.742735757214212, pvalue=0.00011026920258749001)\n",
      "0.4232196951677471 0.6819062290598955\n",
      "T-test conditions; post;  N-V \n",
      " Ttest_relResult(statistic=-2.261462876841871, pvalue=0.034466174019084056)\n",
      "0.9425941230486685 0.9886223055295221\n",
      "N\n",
      "T-test pre/post; condition:  ambiguous ;  N-V \n",
      " Ttest_relResult(statistic=-4.797478270263344, pvalue=9.682190370454306e-05)\n",
      "0.5999187802792818 0.9981818181818182\n",
      "T-test pre/post; condition:  unambiguous ;  N-V \n",
      " Ttest_relResult(statistic=-3.7892599263147826, pvalue=0.0010741036220821472)\n",
      "0.9144857667584941 1.0\n",
      "T-test conditions; pre;  N-V \n",
      " Ttest_relResult(statistic=-4.472387572565611, pvalue=0.00021001951980746629)\n",
      "0.5999187802792818 0.9144857667584941\n",
      "T-test conditions; post;  N-V \n",
      " Ttest_relResult(statistic=-1.283377895839496, pvalue=0.2133419606752296)\n",
      "0.9981818181818182 1.0\n"
     ]
    },
    {
     "data": {
      "text/plain": [
       "<Figure size 432x288 with 0 Axes>"
      ]
     },
     "metadata": {},
     "output_type": "display_data"
    },
    {
     "data": {
      "image/png": "[encoded data removed]",
      "text/plain": [
       "<Figure size 720x432 with 2 Axes>"
      ]
     },
     "metadata": {
      "needs_background": "light"
     },
     "output_type": "display_data"
    },
    {
     "name": "stdout",
     "output_type": "stream",
     "text": [
      "T-test pre/post; condition:  ambiguous ;  NP-S \n",
      " Ttest_relResult(statistic=-16.57944873779426, pvalue=9.343643198931656e-13)\n",
      "0.1903871624407339 0.9880000000000001\n",
      "T-test pre/post; condition:  unambiguous ;  NP-S \n",
      " Ttest_relResult(statistic=-2.700884003359067, pvalue=0.01416224788265053)\n",
      "0.9939898989898991 1.0\n",
      "T-test conditions; pre;  NP-S \n",
      " Ttest_relResult(statistic=-17.461334482737513, pvalue=3.6980787836516274e-13)\n",
      "0.1903871624407339 0.9939898989898991\n",
      "T-test conditions; post;  NP-S \n",
      " Ttest_relResult(statistic=-2.0905996816114736, pvalue=0.05024028243769181)\n",
      "0.9880000000000001 1.0\n"
     ]
    },
    {
     "data": {
      "text/plain": [
       "<Figure size 432x288 with 0 Axes>"
      ]
     },
     "metadata": {},
     "output_type": "display_data"
    },
    {
     "data": {
      "image/png": "[encoded data removed]",
      "text/plain": [
       "<Figure size 720x432 with 2 Axes>"
      ]
     },
     "metadata": {
      "needs_background": "light"
     },
     "output_type": "display_data"
    },
    {
     "name": "stdout",
     "output_type": "stream",
     "text": [
      "T-test pre/post; condition:  ambiguous ;  NP-S \n",
      " Ttest_relResult(statistic=-12.659121153540783, pvalue=1.0446721285922602e-10)\n",
      "0.28903132009450017 0.993\n",
      "T-test pre/post; condition:  unambiguous ;  NP-S \n",
      " Ttest_relResult(statistic=-3.9009430660609126, pvalue=0.0009607381524472378)\n",
      "0.9929053950716561 1.0\n",
      "T-test conditions; pre;  NP-S \n",
      " Ttest_relResult(statistic=-12.703687719154498, pvalue=9.837863247323079e-11)\n",
      "0.28903132009450017 0.9929053950716561\n",
      "T-test conditions; post;  NP-S \n",
      " Ttest_relResult(statistic=-1.6771072779498235, pvalue=0.10989698124647176)\n",
      "0.993 1.0\n"
     ]
    },
    {
     "data": {
      "text/plain": [
       "<Figure size 432x288 with 0 Axes>"
      ]
     },
     "metadata": {},
     "output_type": "display_data"
    },
    {
     "data": {
      "image/png": "[encoded data removed]",
      "text/plain": [
       "<Figure size 720x432 with 2 Axes>"
      ]
     },
     "metadata": {
      "needs_background": "light"
     },
     "output_type": "display_data"
    },
    {
     "name": "stdout",
     "output_type": "stream",
     "text": [
      "T-test pre/post; condition:  ambiguous ;  NP-Z \n",
      " Ttest_relResult(statistic=-73.36090731495277, pvalue=8.857960140778954e-25)\n",
      "0.04126502267573696 0.9955\n",
      "T-test pre/post; condition:  unambiguous ;  NP-Z \n",
      " Ttest_relResult(statistic=-1.8421531475221498, pvalue=0.08111629048990593)\n",
      "0.9938765812643806 1.0\n",
      "T-test conditions; pre;  NP-Z \n",
      " Ttest_relResult(statistic=-75.62919487542652, pvalue=4.975992178783031e-25)\n",
      "0.04126502267573696 0.9938765812643806\n",
      "T-test conditions; post;  NP-Z \n",
      " Ttest_relResult(statistic=-1.483818296894005, pvalue=0.15425730019526357)\n",
      "0.9955 1.0\n"
     ]
    },
    {
     "data": {
      "text/plain": [
       "<Figure size 432x288 with 0 Axes>"
      ]
     },
     "metadata": {},
     "output_type": "display_data"
    },
    {
     "data": {
      "image/png": "[encoded data removed]",
      "text/plain": [
       "<Figure size 720x432 with 2 Axes>"
      ]
     },
     "metadata": {
      "needs_background": "light"
     },
     "output_type": "display_data"
    },
    {
     "name": "stdout",
     "output_type": "stream",
     "text": [
      "T-test pre/post; condition:  ambiguous ;  NP-Z \n",
      " Ttest_relResult(statistic=-83.94308837820563, pvalue=6.89788483468162e-26)\n",
      "0.03274254322291422 0.988979797979798\n",
      "T-test pre/post; condition:  unambiguous ;  NP-Z \n",
      " Ttest_relResult(statistic=-2.6375205191773503, pvalue=0.016229426995427728)\n",
      "0.9924710357461214 1.0\n",
      "T-test conditions; pre;  NP-Z \n",
      " Ttest_relResult(statistic=-89.69678393646775, pvalue=1.963277365865555e-26)\n",
      "0.03274254322291422 0.9924710357461214\n",
      "T-test conditions; post;  NP-Z \n",
      " Ttest_relResult(statistic=-2.2895570216834877, pvalue=0.03366479788960682)\n",
      "0.988979797979798 1.0\n"
     ]
    },
    {
     "data": {
      "text/plain": [
       "<Figure size 432x288 with 0 Axes>"
      ]
     },
     "metadata": {},
     "output_type": "display_data"
    }
   ],
   "source": [
    "eval_dir = '../generated/'\n",
    "data_types = ['N-V','NP-S', 'NP-Z']\n",
    "models = ['lstm_gulordava', 'GPT2']\n",
    "\n",
    "# for all combinations of data and model\n",
    "for data_type in data_types:\n",
    "    category = data_type.split('-')[-1]\n",
    "    for model in models:\n",
    "        #collect cases to exclude\n",
    "        to_exclude = identify_datapoints_to_exclude(model, starting_dir = '..')\n",
    "        data_type_tmp = data_type\n",
    "        if data_type == 'N-V': data_type_tmp = 'N-V_V'\n",
    "        # folder with data: standard generation by sampling\n",
    "        to_eval = eval_dir + '/'.join([data_type_tmp, model, 'sampling-p_p1_temperature1_repetition1/'])\n",
    "        plot_results(to_eval, to_exclude, data_type =data_type, category = category,  model = model)"
   ]
  },
  {
   "cell_type": "code",
   "execution_count": null,
   "metadata": {},
   "outputs": [],
   "source": []
  },
  {
   "cell_type": "code",
   "execution_count": null,
   "metadata": {},
   "outputs": [],
   "source": []
  },
  {
   "cell_type": "code",
   "execution_count": null,
   "metadata": {},
   "outputs": [],
   "source": []
  }
 ],
 "metadata": {
  "kernelspec": {
   "display_name": "Python 3",
   "language": "python",
   "name": "python3"
  },
  "language_info": {
   "codemirror_mode": {
    "name": "ipython",
    "version": 3
   },
   "file_extension": ".py",
   "mimetype": "text/x-python",
   "name": "python",
   "nbconvert_exporter": "python",
   "pygments_lexer": "ipython3",
   "version": "3.7.4"
  }
 },
 "nbformat": 4,
 "nbformat_minor": 2
}
