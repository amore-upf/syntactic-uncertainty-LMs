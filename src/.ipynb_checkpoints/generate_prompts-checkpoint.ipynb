{
 "cells": [
  {
   "cell_type": "code",
   "execution_count": 18,
   "metadata": {},
   "outputs": [],
   "source": [
    "import pandas as pd\n",
    "from generate import get_prompts, get_tokenized_sentence"
   ]
  },
  {
   "cell_type": "code",
   "execution_count": 64,
   "metadata": {},
   "outputs": [],
   "source": [
    "data_type = 'N-V'\n",
    "data_df = pd.read_csv('../data/' + data_type + '.tsv', sep = '\\t', index_col = 'item')\n",
    "category = 'N'"
   ]
  },
  {
   "cell_type": "code",
   "execution_count": 65,
   "metadata": {},
   "outputs": [
    {
     "name": "stdout",
     "output_type": "stream",
     "text": [
      "Susan was extremely surprised that the winter bears resemble the summer bears back home .\n",
      "Local people are concerned that the theater shows are very expensive productions . are\n",
      "For some reason , Sally was surprised that the cotton felt was so soft to the touch . was\n"
     ]
    }
   ],
   "source": [
    "def get_prompts(row_stimulus, data_type = 'NP-S', category = None, ambig = True, tokenize = True):\n",
    "    category_label = '' if category == None else '_' + category\n",
    "    if ambig:\n",
    "        sent = row_stimulus['sentence_ambig' + category_label]\n",
    "    else:\n",
    "        sent = row_stimulus['sentence_unambig' + category_label]\n",
    "\n",
    "    if tokenize:\n",
    "        sent = get_tokenized_sentence(sent)\n",
    "        \n",
    "    if data_type in ['NP-S', 'NP-Z'] or data_type.startswith('MV-RR'):\n",
    "        disambiguator = row.verb_disambiguating\n",
    "        ambiguous = row.ambig_word\n",
    "    elif data_type.startswith('N-V'):\n",
    "        disambiguator = row['disambiguating_' + category]\n",
    "        ambiguous = row.ambig_word\n",
    "        if ambiguous not in sent.split():\n",
    "            if ambiguous.endswith('s') and ambiguous[:-1] in sent.split():\n",
    "                ambiguous = ambiguous[:-1]\n",
    "            elif not ambiguous.endswith('s') and ambiguous  + 's' in sent.split():\n",
    "                ambiguous = ambiguous  + 's'\n",
    "    if tokenize:\n",
    "        if disambiguator.endswith(\"n't\"):\n",
    "            disambiguator = disambiguator.split(\"n't\")[0]\n",
    "    \n",
    "    word_for_split = disambiguator\n",
    "    indices_word_for_split =  [i for i, val in enumerate(sent.split()) if val == word_for_split]\n",
    "    if len(indices_word_for_split) > 1:\n",
    "        print(sent, disambiguator)\n",
    "    if data_type.startswith('N-V'):\n",
    "        split_point = indices_word_for_split[row['occurrence_disambiguating_' + category] - 1]\n",
    "    else:\n",
    "        split_point = indices_word_for_split[row.occurrence_disambiguating - 1]\n",
    "\n",
    "    indices_ambig_word =  [i for i, val in enumerate(sent.split()) if val == ambiguous]\n",
    "    if len(indices_ambig_word) > 1:\n",
    "        print(sent, ambiguous)\n",
    "\n",
    "    prompt_pre_disambiguation = ' '.join(sent.split()[:split_point])\n",
    "    prompt_post_disambiguation = ' '.join(sent.split()[:split_point + 1])\n",
    "    \n",
    "    return prompt_pre_disambiguation, prompt_post_disambiguation\n",
    "\n",
    "for index, row in data_df.iterrows():\n",
    "    tok_prompt_pre_disambiguation, tok_prompt_post_disambiguation = get_prompts(row, data_type=data_type, category=category, ambig=True, tokenize = True)\n",
    "    #prompt_pre_disambiguation, prompt_post_disambiguation = get_prompts(row, data_type=data_type, category=category, ambig=True, tokenize = False)"
   ]
  },
  {
   "cell_type": "code",
   "execution_count": null,
   "metadata": {},
   "outputs": [],
   "source": []
  },
  {
   "cell_type": "code",
   "execution_count": null,
   "metadata": {},
   "outputs": [],
   "source": []
  }
 ],
 "metadata": {
  "kernelspec": {
   "display_name": "Python 3",
   "language": "python",
   "name": "python3"
  },
  "language_info": {
   "codemirror_mode": {
    "name": "ipython",
    "version": 3
   },
   "file_extension": ".py",
   "mimetype": "text/x-python",
   "name": "python",
   "nbconvert_exporter": "python",
   "pygments_lexer": "ipython3",
   "version": "3.7.4"
  }
 },
 "nbformat": 4,
 "nbformat_minor": 2
}
