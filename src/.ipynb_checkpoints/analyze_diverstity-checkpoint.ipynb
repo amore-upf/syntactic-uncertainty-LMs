{
 "cells": [
  {
   "cell_type": "code",
   "execution_count": 1,
   "metadata": {},
   "outputs": [
    {
     "ename": "ModuleNotFoundError",
     "evalue": "No module named 'spacy'",
     "output_type": "error",
     "traceback": [
      "\u001b[0;31m---------------------------------------------------------------------------\u001b[0m",
      "\u001b[0;31mModuleNotFoundError\u001b[0m                       Traceback (most recent call last)",
      "\u001b[0;32m<ipython-input-1-646c71ea4d85>\u001b[0m in \u001b[0;36m<module>\u001b[0;34m\u001b[0m\n\u001b[1;32m      1\u001b[0m \u001b[0;32mimport\u001b[0m \u001b[0mos\u001b[0m\u001b[0;34m\u001b[0m\u001b[0;34m\u001b[0m\u001b[0m\n\u001b[0;32m----> 2\u001b[0;31m \u001b[0;32mimport\u001b[0m \u001b[0mspacy\u001b[0m\u001b[0;34m\u001b[0m\u001b[0;34m\u001b[0m\u001b[0m\n\u001b[0m\u001b[1;32m      3\u001b[0m \u001b[0;32mimport\u001b[0m \u001b[0mnumpy\u001b[0m \u001b[0;32mas\u001b[0m \u001b[0mnp\u001b[0m\u001b[0;34m\u001b[0m\u001b[0;34m\u001b[0m\u001b[0m\n\u001b[1;32m      4\u001b[0m \u001b[0;32mfrom\u001b[0m \u001b[0mitertools\u001b[0m \u001b[0;32mimport\u001b[0m \u001b[0mcombinations\u001b[0m\u001b[0;34m\u001b[0m\u001b[0;34m\u001b[0m\u001b[0m\n\u001b[1;32m      5\u001b[0m \u001b[0;34m\u001b[0m\u001b[0m\n",
      "\u001b[0;31mModuleNotFoundError\u001b[0m: No module named 'spacy'"
     ]
    }
   ],
   "source": [
    "import os\n",
    "import spacy\n",
    "import numpy as np\n",
    "from itertools import combinations\n",
    "\n",
    "spacy_models = spacy.load(\"en_core_web_sm\")"
   ]
  },
  {
   "cell_type": "code",
   "execution_count": 2,
   "metadata": {
    "scrolled": true
   },
   "outputs": [
    {
     "ename": "FileNotFoundError",
     "evalue": "[Errno 2] No such file or directory: 'GPT2/sampling-k_k20_temperature1repetition_1/ambiguous/'",
     "output_type": "error",
     "traceback": [
      "\u001b[0;31m---------------------------------------------------------------------------\u001b[0m",
      "\u001b[0;31mFileNotFoundError\u001b[0m                         Traceback (most recent call last)",
      "\u001b[0;32m<ipython-input-2-62dac300317a>\u001b[0m in \u001b[0;36m<module>\u001b[0;34m\u001b[0m\n\u001b[1;32m      7\u001b[0m \u001b[0munique_ratios\u001b[0m \u001b[0;34m=\u001b[0m \u001b[0;34m[\u001b[0m\u001b[0;34m]\u001b[0m\u001b[0;34m\u001b[0m\u001b[0;34m\u001b[0m\u001b[0m\n\u001b[1;32m      8\u001b[0m \u001b[0mgeneration_type_dir\u001b[0m \u001b[0;34m=\u001b[0m \u001b[0;34m'GPT2/sampling-k_k20_temperature1repetition_1/ambiguous/'\u001b[0m\u001b[0;34m\u001b[0m\u001b[0;34m\u001b[0m\u001b[0m\n\u001b[0;32m----> 9\u001b[0;31m \u001b[0;32mfor\u001b[0m \u001b[0mstimulus_filename\u001b[0m \u001b[0;32min\u001b[0m \u001b[0mos\u001b[0m\u001b[0;34m.\u001b[0m\u001b[0mlistdir\u001b[0m\u001b[0;34m(\u001b[0m\u001b[0mgeneration_type_dir\u001b[0m\u001b[0;34m)\u001b[0m\u001b[0;34m:\u001b[0m\u001b[0;34m\u001b[0m\u001b[0;34m\u001b[0m\u001b[0m\n\u001b[0m\u001b[1;32m     10\u001b[0m     \u001b[0mstimulus_filename\u001b[0m \u001b[0;34m=\u001b[0m \u001b[0mgeneration_type_dir\u001b[0m \u001b[0;34m+\u001b[0m \u001b[0mstimulus_filename\u001b[0m\u001b[0;34m\u001b[0m\u001b[0;34m\u001b[0m\u001b[0m\n\u001b[1;32m     11\u001b[0m     \u001b[0msentences\u001b[0m \u001b[0;34m=\u001b[0m \u001b[0;34m[\u001b[0m\u001b[0;34m]\u001b[0m\u001b[0;34m\u001b[0m\u001b[0;34m\u001b[0m\u001b[0m\n",
      "\u001b[0;31mFileNotFoundError\u001b[0m: [Errno 2] No such file or directory: 'GPT2/sampling-k_k20_temperature1repetition_1/ambiguous/'"
     ]
    }
   ],
   "source": [
    "def tokenize(sent):\n",
    "    return [str(i) for i in spacy_models(sent)]\n",
    "\n",
    "type_token_ratios = []\n",
    "pairwise_overlap = []\n",
    "pairwise_lexical_overlap = []\n",
    "unique_ratios = []\n",
    "generation_type_dir = 'GPT2/sampling-k_k20_temperature1repetition_1/ambiguous/'\n",
    "for stimulus_filename in os.listdir(generation_type_dir):\n",
    "    stimulus_filename = generation_type_dir + stimulus_filename\n",
    "    sentences = []\n",
    "    sentences_unique = set()\n",
    "    with open(stimulus_filename, 'r') as generated_file:\n",
    "        for line in generated_file:\n",
    "            sent = tokenize(line.split('\\t')[1])\n",
    "            sentences.append(sent)\n",
    "            sentences_unique.add(''.join(sent))\n",
    "            type_token_ratio = len(set(sent))/len(sent)\n",
    "            type_token_ratios.append(type_token_ratio)\n",
    "    if len(sentences) == 0:\n",
    "        break\n",
    "    for sentence_pair in combinations(sentences, 2):\n",
    "        sent1, sent2 = sentence_pair\n",
    "        same = 0\n",
    "        for i in range(min(len(sent1), len(sent2))):\n",
    "            if sent1[i] == sent2[i]:\n",
    "                same += 1\n",
    "        overlap = same/max(len(sent1), len(sent2))\n",
    "        pairwise_overlap.append(overlap)\n",
    "        words1, words2 = set(sent1), set(sent2)\n",
    "        lexical_overlap = len(words1.intersection(words2)) / len(words1.union(words2))\n",
    "        pairwise_lexical_overlap.append(lexical_overlap)\n",
    "    unique_ratios.append(len(sentences_unique)/len(sentences))"
   ]
  },
  {
   "cell_type": "code",
   "execution_count": 71,
   "metadata": {},
   "outputs": [
    {
     "name": "stdout",
     "output_type": "stream",
     "text": [
      "0.8975330249864439 0.36516497540870185 0.3622253821262463 1.0\n"
     ]
    }
   ],
   "source": [
    "print(np.mean(type_token_ratios), np.mean(pairwise_lexical_overlap), np.mean(pairwise_overlap), np.mean(unique_ratios))"
   ]
  },
  {
   "cell_type": "code",
   "execution_count": null,
   "metadata": {},
   "outputs": [],
   "source": []
  }
 ],
 "metadata": {
  "kernelspec": {
   "display_name": "Python 3",
   "language": "python",
   "name": "python3"
  },
  "language_info": {
   "codemirror_mode": {
    "name": "ipython",
    "version": 3
   },
   "file_extension": ".py",
   "mimetype": "text/x-python",
   "name": "python",
   "nbconvert_exporter": "python",
   "pygments_lexer": "ipython3",
   "version": "3.8.5"
  }
 },
 "nbformat": 4,
 "nbformat_minor": 2
}
