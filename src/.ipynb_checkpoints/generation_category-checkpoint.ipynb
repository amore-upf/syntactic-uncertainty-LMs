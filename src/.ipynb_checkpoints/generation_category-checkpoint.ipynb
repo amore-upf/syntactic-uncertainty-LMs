{
 "cells": [
  {
   "cell_type": "code",
   "execution_count": 6,
   "metadata": {},
   "outputs": [],
   "source": [
    "from lm_utils import *\n",
    "from generation_utils import *\n",
    "import pandas as  pd"
   ]
  },
  {
   "cell_type": "code",
   "execution_count": 7,
   "metadata": {},
   "outputs": [],
   "source": [
    "lm, lm_vocabulary = load_lm(model_type = 'distilGPT2')"
   ]
  },
  {
   "cell_type": "code",
   "execution_count": 3,
   "metadata": {},
   "outputs": [],
   "source": []
  },
  {
   "cell_type": "code",
   "execution_count": 1,
   "metadata": {},
   "outputs": [],
   "source": [
    "sentences = ['The employees understood the contract would be changed very soon to accommodate all parties.', \n",
    "            'The tourists saw the palace was being restored to its original condition.']\n",
    "\n",
    "sentences_unambig = ['The employees understood that the contract would be changed very soon to accommodate all parties.', \n",
    "                    'The tourists saw that the palace was being restored to its original condition.']\n",
    "# sentences_long_unambig = ['Even though the band which played funk music left , the party went on for at least another two hours.']"
   ]
  },
  {
   "cell_type": "code",
   "execution_count": 2,
   "metadata": {},
   "outputs": [
    {
     "name": "stderr",
     "output_type": "stream",
     "text": [
      "Did not use initialization regex that was passed: .*bias_ih.*\n",
      "Did not use initialization regex that was passed: .*bias_hh.*\n",
      "Did not use initialization regex that was passed: .*weight_ih.*\n",
      "Did not use initialization regex that was passed: .*weight_hh.*\n"
     ]
    }
   ],
   "source": [
    "#lm, lm_vocabulary = load_lm()\n",
    "\n",
    "from allennlp.predictors.predictor import Predictor\n",
    "predictor = Predictor.from_path(\"https://s3-us-west-2.amazonaws.com/allennlp/models/biaffine-dependency-parser-ptb-2018.08.23.tar.gz\")\n",
    "\n",
    "import spacy\n",
    "nlp = spacy.load(\"en_core_web_sm\")\n",
    "\n",
    "def get_dependencies(sent, parser = 'allennlp'):\n",
    "    if parser == 'spacy':\n",
    "        return [token.dep_ for token in nlp(sent)], [str(t) for t in nlp(sent)]\n",
    "    else:\n",
    "        predictions = predictor.predict(sentence =  sent)\n",
    "        return predictions['predicted_dependencies'], predictions['words']"
   ]
  },
  {
   "cell_type": "code",
   "execution_count": 11,
   "metadata": {},
   "outputs": [],
   "source": [
    "sent = sentences[1]\n",
    "noun = 'palace'\n",
    "verb = 'was'\n",
    "\n",
    "def get_sentences(sent_portion, lm, lm_vocabulary):\n",
    "    sent_portion = lm_vocabulary.encode(sent_portion)\n",
    "    sent_portion = torch.LongTensor(sent_portion).unsqueeze(0)\n",
    "    generated = generate(sent_portion, lm, lm_vocabulary, do_sample = True, \n",
    "                   repetition_penalty = 2, num_return_sequences =  20, temperature = 1,\n",
    "                unknown_penalty = 1000000, top_k = 20, num_beams = 1, max_length = 20)  # generate sequence\n",
    "    sent_generated = []\n",
    "    for i in range(len(generated)):\n",
    "        s = lm_vocabulary.decode(generated[i])\n",
    "        s = list(nlp(s).sents)[0].text\n",
    "        if s not in sent_generated:\n",
    "            sent_generated.append(s)\n",
    "    sent_generated = sent_generated[:11]\n",
    "    return sent_generated\n",
    "\n",
    "sent_portion_1 = ' '.join(sent.split()[:sent.split().index(noun)+1])\n",
    "sent_portion_2 = ' '.join(sent.split()[:sent.split().index(noun)+2])\n",
    "\n",
    "sentences_1 =get_sentences(sent_portion_1, lm, lm_vocabulary)\n",
    "sentences_2 = get_sentences(sent_portion_2, lm, lm_vocabulary)"
   ]
  },
  {
   "cell_type": "code",
   "execution_count": 12,
   "metadata": {},
   "outputs": [
    {
     "name": "stdout",
     "output_type": "stream",
     "text": [
      "('nsubjpass', 'aux')\n",
      "('nsubjpass', 'aux')\n",
      "The tourists saw the palace of Sultan Khomeini as being built by his brother and uncle, in ('dobj', 'prep')\n",
      "The tourists saw the palace as a model and not an object.<|endoftext|>In this year's release of ('dobj', 'prep')\n",
      "The tourists saw the palace, a new luxury hotel in Dubai's Old City.\n",
      " ('dobj', 'punct')\n",
      "The tourists saw the palace that has been demolished to make way for a new bridge,�� said ('dobj', 'nsubjpass')\n",
      "The tourists saw the palace as one of a multitude, with its marble columns draped across it.\n",
      " ('dobj', 'prep')\n",
      "The tourists saw the palace being transformed into a modern version of what was used to be one room at ('nsubjpass', 'auxpass')\n",
      "The tourists saw the palace being used as a show of solidarity between them. ('nsubjpass', 'auxpass')\n",
      "The tourists saw the palace��s new ��turbulent exterior. ('nsubj', 'ccomp')\n",
      "The tourists saw the palace's new home as a model for their trip. ('poss', 'possessive')\n",
      "The tourists saw the palace as they waited around in what was said to be a very large hall. ('dobj', 'mark')\n",
      "The tourists saw the palace as a symbol of an economic, political and social crisis. ('dobj', 'prep')\n",
      "The tourists saw the palace was a symbol of unity.\n",
      " ('nsubj', 'cop')\n",
      "The tourists saw the palace was a popular attraction, but not all of its attractions were well-built ('nsubj', 'ccomp')\n",
      "The tourists saw the palace was closed by police after protesters threw rocks and bottles in a protest, an ('nsubjpass', 'auxpass')\n",
      "The tourists saw the palace was being destroyed,\" she said.<|endoftext|>A study at this year's National ('nsubj', 'ccomp')\n",
      "The tourists saw the palace was vandalized and many injured.\n",
      " ('nsubj', 'ccomp')\n",
      "The tourists saw the palace was vandalised several times, one of them allegedly shouting \"Allah!\" ('nsubjpass', 'ccomp')\n",
      "The tourists saw the palace was filled with huge glass of wine.\n",
      " ('nsubj', 'ccomp')\n",
      "The tourists saw the palace was full of jewels and treasures, but they also noticed a large piece in ('nsubj', 'ccomp')\n",
      "The tourists saw the palace was built in 1912 and its original location is now called St. Paul's ('nsubj', 'ccomp')\n",
      "The tourists saw the palace was built and it has now become home to a number of hotels.\n",
      " ('nsubj', 'ccomp')\n",
      "The tourists saw the palace was open and there were no signs of looting, but it seemed to keep ('nsubj', 'ccomp')\n"
     ]
    }
   ],
   "source": [
    "def np_z(sent, noun, verb, parser = 'allennlp', add_coma = False, after_verb = False):\n",
    "    if add_coma: sent = sent.replace(verb, verb + ',')\n",
    "    parse, tokens = get_dependencies(sent, parser = parser)\n",
    "    label_np = parse[tokens.index(noun)]\n",
    "    label_verb = parse[tokens.index(noun) + 1 ]\n",
    "    return label_np, label_verb\n",
    "\n",
    "print(np_z(sentences[1], noun, verb))\n",
    "print(np_z(sentences_unambig[1], noun, verb))\n",
    "\n",
    "for s in sentences_1:\n",
    "    print(s, np_z(s, noun, verb))\n",
    "for s in sentences_2:\n",
    "    print(s, np_z(s, noun, verb, add_coma = True))"
   ]
  },
  {
   "cell_type": "code",
   "execution_count": null,
   "metadata": {},
   "outputs": [],
   "source": []
  },
  {
   "cell_type": "code",
   "execution_count": null,
   "metadata": {},
   "outputs": [],
   "source": []
  },
  {
   "cell_type": "code",
   "execution_count": null,
   "metadata": {},
   "outputs": [],
   "source": []
  },
  {
   "cell_type": "code",
   "execution_count": null,
   "metadata": {},
   "outputs": [],
   "source": []
  }
 ],
 "metadata": {
  "kernelspec": {
   "display_name": "Python 3",
   "language": "python",
   "name": "python3"
  },
  "language_info": {
   "codemirror_mode": {
    "name": "ipython",
    "version": 3
   },
   "file_extension": ".py",
   "mimetype": "text/x-python",
   "name": "python",
   "nbconvert_exporter": "python",
   "pygments_lexer": "ipython3",
   "version": "3.7.4"
  }
 },
 "nbformat": 4,
 "nbformat_minor": 2
}
